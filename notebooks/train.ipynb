{
 "cells": [
  {
   "cell_type": "markdown",
   "metadata": {},
   "source": [
    "# Импорты"
   ]
  },
  {
   "cell_type": "code",
   "execution_count": 1,
   "metadata": {},
   "outputs": [],
   "source": [
    "import pickle\n",
    "import gc\n",
    "\n",
    "import catboost as cb\n",
    "import pandas as pd\n",
    "import matplotlib.pyplot as plt\n",
    "%matplotlib inline\n",
    "\n",
    "from sklearn.metrics import roc_curve, roc_auc_score\n",
    "from sklearn.model_selection import train_test_split\n",
    "from sklearn.naive_bayes import GaussianNB\n",
    "#from malware_src.prepare_data import dataframe_to_pool\n",
    "#from malware_src.visualization import plot_roc_curve\n",
    "#from malware_src.model import load_model, apply_model_to_json"
   ]
  },
  {
   "cell_type": "markdown",
   "metadata": {},
   "source": [
    "# Загрузка и разделение данных"
   ]
  },
  {
   "cell_type": "code",
   "execution_count": 2,
   "metadata": {},
   "outputs": [],
   "source": [
    "dtypes = {\n",
    "    'EngineVersion':                                     'category',\n",
    "    'AppVersion':                                        'category',\n",
    "    'AvSigVersion':                                      'category',\n",
    "    'RtpStateBitfield':                                  'category',\n",
    "    'DefaultBrowsersIdentifier':                         'category',\n",
    "    'AVProductStatesIdentifier':                         'category',\n",
    "    'AVProductsInstalled':                               'category',\n",
    "    'AVProductsEnabled':                                 'category',\n",
    "    'CountryIdentifier':                                 'category',\n",
    "    'CityIdentifier':                                    'category',\n",
    "    'OrganizationIdentifier':                            'category',\n",
    "    'GeoNameIdentifier':                                 'category',\n",
    "    'LocaleEnglishNameIdentifier':                       'category',\n",
    "    'Platform':                                          'category',\n",
    "    'Processor':                                         'category',\n",
    "    'OsVer':                                             'category',\n",
    "    'OsBuild':                                           'category',\n",
    "    'OsSuite':                                           'category',\n",
    "    'OsPlatformSubRelease':                              'category',\n",
    "    'OsBuildLab':                                        'category',\n",
    "    'SkuEdition':                                        'category',\n",
    "    'IsProtected':                                       'category',\n",
    "    'IeVerIdentifier':                                   'category',\n",
    "    'SmartScreen':                                       'category',\n",
    "    'Firewall':                                          'category',\n",
    "    'Census_MDC2FormFactor':                             'category',\n",
    "    'Census_OEMNameIdentifier':                          'category',\n",
    "    'Census_OEMModelIdentifier':                         'category',\n",
    "    'Census_ProcessorManufacturerIdentifier':            'category',\n",
    "    'Census_ProcessorModelIdentifier':                   'category',\n",
    "    'Census_ProcessorClass':                             'category',\n",
    "    'Census_PrimaryDiskTypeName':                        'category',\n",
    "    'Census_HasOpticalDiskDrive':                        'category',\n",
    "    'Census_ChassisTypeName':                            'category',\n",
    "    'Census_PowerPlatformRoleName':                      'category',\n",
    "    'Census_InternalBatteryType':                        'category',\n",
    "    'Census_OSVersion':                                  'category',\n",
    "    'Census_OSArchitecture':                             'category',\n",
    "    'Census_OSBranch':                                   'category',\n",
    "    'Census_OSBuildNumber':                              'category',\n",
    "    'Census_OSBuildRevision':                            'category',\n",
    "    'Census_OSEdition':                                  'category',\n",
    "    'Census_OSSkuName':                                  'category',\n",
    "    'Census_OSInstallTypeName':                          'category',\n",
    "    'Census_OSInstallLanguageIdentifier':                'category',\n",
    "    'Census_OSUILocaleIdentifier':                       'category',\n",
    "    'Census_OSWUAutoUpdateOptionsName':                  'category',\n",
    "    'Census_GenuineStateName':                           'category',\n",
    "    'Census_ActivationChannel':                          'category',\n",
    "    'Census_FlightRing':                                 'category',\n",
    "    'Census_FirmwareManufacturerIdentifier':             'category',\n",
    "    'Census_FirmwareVersionIdentifier':                  'category',\n",
    "    'Census_IsSecureBootEnabled':                        'category',\n",
    "    'Census_IsTouchEnabled':                             'category',\n",
    "    'Census_IsPenCapable':                               'category',\n",
    "    'Census_IsAlwaysOnAlwaysConnectedCapable':           'category',\n",
    "    'Wdft_IsGamer':                                      'category',\n",
    "    'Wdft_RegionIdentifier':                             'category',\n",
    "    'HasDetections':                                     'category',\n",
    "    'Census_ProcessorCoreCount':                         'float16',\n",
    "    'Census_PrimaryDiskTotalCapacity':                   'float64',\n",
    "    'Census_SystemVolumeTotalCapacity':                  'float64',\n",
    "    'Census_TotalPhysicalRAM':                           'float32',\n",
    "    'Census_InternalPrimaryDiagonalDisplaySizeInInches': 'float32',\n",
    "    'Census_InternalPrimaryDisplayResolutionHorizontal': 'float32',\n",
    "    'Census_InternalPrimaryDisplayResolutionVertical':   'float32',\n",
    "    'Census_InternalBatteryNumberOfCharges':             'float64'\n",
    "}"
   ]
  },
  {
   "cell_type": "code",
   "execution_count": 19,
   "metadata": {},
   "outputs": [],
   "source": [
    "categorical = [el for el in dtypes if dtypes[el] == 'category']\n",
    "numerical = [el for el in dtypes if dtypes[el] != 'category']"
   ]
  },
  {
   "cell_type": "code",
   "execution_count": 52,
   "metadata": {},
   "outputs": [],
   "source": [
    "seed = 2019\n",
    "val_part = 0.2"
   ]
  },
  {
   "cell_type": "code",
   "execution_count": 58,
   "metadata": {
    "scrolled": true
   },
   "outputs": [
    {
     "ename": "TypeError",
     "evalue": "dataframe_to_pool() missing 3 required positional arguments: 'numeric_columns', 'categorical_columns', and 'target_column'",
     "output_type": "error",
     "traceback": [
      "\u001b[1;31m---------------------------------------------------------------------------\u001b[0m",
      "\u001b[1;31mTypeError\u001b[0m                                 Traceback (most recent call last)",
      "\u001b[1;32m<timed exec>\u001b[0m in \u001b[0;36m<module>\u001b[1;34m\u001b[0m\n",
      "\u001b[1;31mTypeError\u001b[0m: dataframe_to_pool() missing 3 required positional arguments: 'numeric_columns', 'categorical_columns', and 'target_column'"
     ]
    }
   ],
   "source": [
    "%%time\n",
    "data_path = '../data/filtered_train_data.csv'\n",
    "data = pd.read_csv(data_path, dtype=dtypes)\n",
    "train_data, val_data = train_test_split(data, test_size=val_part, random_state=seed)"
   ]
  },
  {
   "cell_type": "code",
   "execution_count": 5,
   "metadata": {},
   "outputs": [
    {
     "data": {
      "text/plain": [
       "1000000"
      ]
     },
     "execution_count": 5,
     "metadata": {},
     "output_type": "execute_result"
    }
   ],
   "source": [
    "train_data.shape[0]"
   ]
  },
  {
   "cell_type": "code",
   "execution_count": 7,
   "metadata": {},
   "outputs": [
    {
     "name": "stdout",
     "output_type": "stream",
     "text": [
      "<class 'pandas.core.frame.DataFrame'>\n",
      "RangeIndex: 1000000 entries, 0 to 999999\n",
      "Data columns (total 67 columns):\n",
      "EngineVersion                                        1000000 non-null category\n",
      "AppVersion                                           1000000 non-null category\n",
      "AvSigVersion                                         1000000 non-null category\n",
      "RtpStateBitfield                                     996334 non-null category\n",
      "DefaultBrowsersIdentifier                            48303 non-null category\n",
      "AVProductStatesIdentifier                            995907 non-null category\n",
      "AVProductsInstalled                                  995907 non-null category\n",
      "AVProductsEnabled                                    995907 non-null category\n",
      "CountryIdentifier                                    1000000 non-null category\n",
      "CityIdentifier                                       963487 non-null category\n",
      "OrganizationIdentifier                               691064 non-null category\n",
      "GeoNameIdentifier                                    999981 non-null category\n",
      "LocaleEnglishNameIdentifier                          1000000 non-null category\n",
      "Platform                                             1000000 non-null category\n",
      "Processor                                            1000000 non-null category\n",
      "OsVer                                                1000000 non-null category\n",
      "OsBuild                                              1000000 non-null category\n",
      "OsSuite                                              1000000 non-null category\n",
      "OsPlatformSubRelease                                 1000000 non-null category\n",
      "OsBuildLab                                           999997 non-null category\n",
      "SkuEdition                                           1000000 non-null category\n",
      "IsProtected                                          995924 non-null category\n",
      "IeVerIdentifier                                      993347 non-null category\n",
      "SmartScreen                                          644223 non-null category\n",
      "Firewall                                             989660 non-null category\n",
      "Census_MDC2FormFactor                                1000000 non-null category\n",
      "Census_OEMNameIdentifier                             989473 non-null category\n",
      "Census_OEMModelIdentifier                            988687 non-null category\n",
      "Census_ProcessorCoreCount                            995368 non-null float16\n",
      "Census_ProcessorManufacturerIdentifier               995367 non-null category\n",
      "Census_ProcessorModelIdentifier                      995362 non-null category\n",
      "Census_ProcessorClass                                4125 non-null category\n",
      "Census_PrimaryDiskTotalCapacity                      994118 non-null float64\n",
      "Census_PrimaryDiskTypeName                           998544 non-null category\n",
      "Census_SystemVolumeTotalCapacity                     994119 non-null float64\n",
      "Census_HasOpticalDiskDrive                           1000000 non-null category\n",
      "Census_TotalPhysicalRAM                              991004 non-null float32\n",
      "Census_ChassisTypeName                               999939 non-null category\n",
      "Census_InternalPrimaryDiagonalDisplaySizeInInches    994619 non-null float32\n",
      "Census_InternalPrimaryDisplayResolutionHorizontal    994628 non-null float32\n",
      "Census_InternalPrimaryDisplayResolutionVertical      994628 non-null float32\n",
      "Census_PowerPlatformRoleName                         999994 non-null category\n",
      "Census_InternalBatteryType                           290170 non-null category\n",
      "Census_InternalBatteryNumberOfCharges                969924 non-null float64\n",
      "Census_OSVersion                                     1000000 non-null category\n",
      "Census_OSArchitecture                                1000000 non-null category\n",
      "Census_OSBranch                                      1000000 non-null category\n",
      "Census_OSBuildNumber                                 1000000 non-null category\n",
      "Census_OSBuildRevision                               1000000 non-null category\n",
      "Census_OSEdition                                     1000000 non-null category\n",
      "Census_OSSkuName                                     1000000 non-null category\n",
      "Census_OSInstallTypeName                             1000000 non-null category\n",
      "Census_OSInstallLanguageIdentifier                   993300 non-null category\n",
      "Census_OSUILocaleIdentifier                          1000000 non-null category\n",
      "Census_OSWUAutoUpdateOptionsName                     1000000 non-null category\n",
      "Census_GenuineStateName                              1000000 non-null category\n",
      "Census_ActivationChannel                             1000000 non-null category\n",
      "Census_FlightRing                                    1000000 non-null category\n",
      "Census_FirmwareManufacturerIdentifier                979547 non-null category\n",
      "Census_FirmwareVersionIdentifier                     982112 non-null category\n",
      "Census_IsSecureBootEnabled                           1000000 non-null category\n",
      "Census_IsTouchEnabled                                1000000 non-null category\n",
      "Census_IsPenCapable                                  1000000 non-null category\n",
      "Census_IsAlwaysOnAlwaysConnectedCapable              992020 non-null category\n",
      "Wdft_IsGamer                                         965907 non-null category\n",
      "Wdft_RegionIdentifier                                965907 non-null category\n",
      "HasDetections                                        1000000 non-null int64\n",
      "dtypes: category(58), float16(1), float32(4), float64(3), int64(1)\n",
      "memory usage: 130.5 MB\n"
     ]
    }
   ],
   "source": [
    "train_data.info()"
   ]
  },
  {
   "cell_type": "markdown",
   "metadata": {},
   "source": [
    "# Catboost"
   ]
  },
  {
   "cell_type": "markdown",
   "metadata": {},
   "source": [
    "###  Обучение"
   ]
  },
  {
   "cell_type": "code",
   "execution_count": 38,
   "metadata": {},
   "outputs": [],
   "source": [
    "def dataframe_to_pool(df,\n",
    "               numeric_columns,\n",
    "               categorical_columns,\n",
    "               target_column,\n",
    "               ):\n",
    "    columns = numeric_columns + categorical_columns\n",
    "    target = None\n",
    "    if target_column in df.columns:\n",
    "        target = df[target_column]\n",
    "    df = df[columns].copy()\n",
    "    for col in categorical_columns:\n",
    "        df[col] = df[col].cat.add_categories(-1)\n",
    "        df.loc[:, col] = df[col].fillna(-1)\n",
    "    return cb.Pool(\n",
    "            df,\n",
    "            label=target,\n",
    "            cat_features=categorical_columns,\n",
    "        )\n",
    "\n",
    "\n",
    "def json_to_pool(json_data,\n",
    "            numeric_columns,\n",
    "            categorical_columns,\n",
    "            target_column\n",
    "            ):\n",
    "    df = pd.DataFrame(json_data, index=[0])\n",
    "    return dataframe_to_pool(df,\n",
    "                        numeric_columns,\n",
    "                        categorical_columns,\n",
    "                        target_column)"
   ]
  },
  {
   "cell_type": "code",
   "execution_count": 59,
   "metadata": {},
   "outputs": [],
   "source": [
    "model = cb.CatBoostClassifier(iterations=100)\n",
    "train_pool = dataframe_to_pool(train_data, numerical, categorical, 'HasDetections')\n",
    "val_pool = dataframe_to_pool(val_data, numerical, categorical, 'HasDetections')"
   ]
  },
  {
   "cell_type": "code",
   "execution_count": 60,
   "metadata": {},
   "outputs": [
    {
     "data": {
      "text/plain": [
       "20"
      ]
     },
     "execution_count": 60,
     "metadata": {},
     "output_type": "execute_result"
    }
   ],
   "source": [
    "gc.collect()"
   ]
  },
  {
   "cell_type": "code",
   "execution_count": 61,
   "metadata": {},
   "outputs": [
    {
     "name": "stdout",
     "output_type": "stream",
     "text": [
      "Learning rate set to 0.5\n",
      "0:\tlearn: 0.6540201\ttest: 0.6540800\tbest: 0.6540800 (0)\ttotal: 25.3s\tremaining: 41m 47s\n",
      "1:\tlearn: 0.6391347\ttest: 0.6391074\tbest: 0.6391074 (1)\ttotal: 40.1s\tremaining: 32m 46s\n",
      "2:\tlearn: 0.6337850\ttest: 0.6336888\tbest: 0.6336888 (2)\ttotal: 55s\tremaining: 29m 37s\n",
      "3:\tlearn: 0.6308730\ttest: 0.6307271\tbest: 0.6307271 (3)\ttotal: 1m 3s\tremaining: 25m 29s\n",
      "4:\tlearn: 0.6291877\ttest: 0.6290695\tbest: 0.6290695 (4)\ttotal: 1m 12s\tremaining: 22m 59s\n",
      "5:\tlearn: 0.6276804\ttest: 0.6273907\tbest: 0.6273907 (5)\ttotal: 1m 21s\tremaining: 21m 16s\n",
      "6:\tlearn: 0.6262344\ttest: 0.6258957\tbest: 0.6258957 (6)\ttotal: 1m 30s\tremaining: 19m 58s\n",
      "7:\tlearn: 0.6252441\ttest: 0.6249058\tbest: 0.6249058 (7)\ttotal: 1m 39s\tremaining: 19m 1s\n",
      "8:\tlearn: 0.6245115\ttest: 0.6241608\tbest: 0.6241608 (8)\ttotal: 1m 48s\tremaining: 18m 21s\n",
      "9:\tlearn: 0.6238581\ttest: 0.6235635\tbest: 0.6235635 (9)\ttotal: 1m 59s\tremaining: 17m 54s\n",
      "10:\tlearn: 0.6227701\ttest: 0.6224830\tbest: 0.6224830 (10)\ttotal: 2m 8s\tremaining: 17m 23s\n",
      "11:\tlearn: 0.6222859\ttest: 0.6219594\tbest: 0.6219594 (11)\ttotal: 2m 18s\tremaining: 16m 54s\n",
      "12:\tlearn: 0.6217746\ttest: 0.6214381\tbest: 0.6214381 (12)\ttotal: 2m 27s\tremaining: 16m 30s\n",
      "13:\tlearn: 0.6211670\ttest: 0.6208183\tbest: 0.6208183 (13)\ttotal: 2m 37s\tremaining: 16m 10s\n",
      "14:\tlearn: 0.6206721\ttest: 0.6203272\tbest: 0.6203272 (14)\ttotal: 2m 47s\tremaining: 15m 47s\n",
      "15:\tlearn: 0.6202508\ttest: 0.6199095\tbest: 0.6199095 (15)\ttotal: 2m 55s\tremaining: 15m 23s\n",
      "16:\tlearn: 0.6198238\ttest: 0.6194551\tbest: 0.6194551 (16)\ttotal: 3m 7s\tremaining: 15m 13s\n",
      "17:\tlearn: 0.6192924\ttest: 0.6189618\tbest: 0.6189618 (17)\ttotal: 3m 16s\tremaining: 14m 55s\n",
      "18:\tlearn: 0.6187464\ttest: 0.6184009\tbest: 0.6184009 (18)\ttotal: 3m 26s\tremaining: 14m 38s\n",
      "19:\tlearn: 0.6184773\ttest: 0.6181021\tbest: 0.6181021 (19)\ttotal: 3m 37s\tremaining: 14m 30s\n",
      "20:\tlearn: 0.6182807\ttest: 0.6179000\tbest: 0.6179000 (20)\ttotal: 3m 47s\tremaining: 14m 14s\n",
      "21:\tlearn: 0.6179597\ttest: 0.6175777\tbest: 0.6175777 (21)\ttotal: 3m 56s\tremaining: 13m 57s\n",
      "22:\tlearn: 0.6177107\ttest: 0.6173366\tbest: 0.6173366 (22)\ttotal: 4m 5s\tremaining: 13m 42s\n",
      "23:\tlearn: 0.6174131\ttest: 0.6170394\tbest: 0.6170394 (23)\ttotal: 4m 14s\tremaining: 13m 26s\n",
      "24:\tlearn: 0.6171068\ttest: 0.6167331\tbest: 0.6167331 (24)\ttotal: 4m 23s\tremaining: 13m 10s\n",
      "25:\tlearn: 0.6168559\ttest: 0.6164874\tbest: 0.6164874 (25)\ttotal: 4m 32s\tremaining: 12m 55s\n",
      "26:\tlearn: 0.6166080\ttest: 0.6162482\tbest: 0.6162482 (26)\ttotal: 4m 41s\tremaining: 12m 40s\n",
      "27:\tlearn: 0.6163412\ttest: 0.6159860\tbest: 0.6159860 (27)\ttotal: 4m 50s\tremaining: 12m 27s\n",
      "28:\tlearn: 0.6161286\ttest: 0.6157624\tbest: 0.6157624 (28)\ttotal: 5m\tremaining: 12m 16s\n",
      "29:\tlearn: 0.6157530\ttest: 0.6153989\tbest: 0.6153989 (29)\ttotal: 5m 9s\tremaining: 12m 2s\n",
      "30:\tlearn: 0.6155751\ttest: 0.6152261\tbest: 0.6152261 (30)\ttotal: 5m 18s\tremaining: 11m 48s\n",
      "31:\tlearn: 0.6151461\ttest: 0.6147762\tbest: 0.6147762 (31)\ttotal: 5m 27s\tremaining: 11m 35s\n",
      "32:\tlearn: 0.6149909\ttest: 0.6146237\tbest: 0.6146237 (32)\ttotal: 5m 36s\tremaining: 11m 23s\n",
      "33:\tlearn: 0.6147309\ttest: 0.6143658\tbest: 0.6143658 (33)\ttotal: 5m 45s\tremaining: 11m 9s\n",
      "34:\tlearn: 0.6145585\ttest: 0.6141879\tbest: 0.6141879 (34)\ttotal: 5m 53s\tremaining: 10m 57s\n",
      "35:\tlearn: 0.6143835\ttest: 0.6140231\tbest: 0.6140231 (35)\ttotal: 6m 2s\tremaining: 10m 44s\n",
      "36:\tlearn: 0.6141973\ttest: 0.6138201\tbest: 0.6138201 (36)\ttotal: 6m 11s\tremaining: 10m 32s\n",
      "37:\tlearn: 0.6139313\ttest: 0.6135377\tbest: 0.6135377 (37)\ttotal: 6m 19s\tremaining: 10m 19s\n",
      "38:\tlearn: 0.6137038\ttest: 0.6133267\tbest: 0.6133267 (38)\ttotal: 6m 28s\tremaining: 10m 7s\n",
      "39:\tlearn: 0.6135988\ttest: 0.6132291\tbest: 0.6132291 (39)\ttotal: 6m 37s\tremaining: 9m 56s\n",
      "40:\tlearn: 0.6134533\ttest: 0.6130749\tbest: 0.6130749 (40)\ttotal: 6m 46s\tremaining: 9m 44s\n",
      "41:\tlearn: 0.6131923\ttest: 0.6128131\tbest: 0.6128131 (41)\ttotal: 6m 55s\tremaining: 9m 33s\n",
      "42:\tlearn: 0.6130864\ttest: 0.6127251\tbest: 0.6127251 (42)\ttotal: 7m 3s\tremaining: 9m 21s\n",
      "43:\tlearn: 0.6128314\ttest: 0.6124790\tbest: 0.6124790 (43)\ttotal: 7m 12s\tremaining: 9m 10s\n",
      "44:\tlearn: 0.6126123\ttest: 0.6122577\tbest: 0.6122577 (44)\ttotal: 7m 21s\tremaining: 9m\n",
      "45:\tlearn: 0.6124265\ttest: 0.6120680\tbest: 0.6120680 (45)\ttotal: 7m 30s\tremaining: 8m 49s\n",
      "46:\tlearn: 0.6122817\ttest: 0.6119249\tbest: 0.6119249 (46)\ttotal: 7m 39s\tremaining: 8m 38s\n",
      "47:\tlearn: 0.6121628\ttest: 0.6118292\tbest: 0.6118292 (47)\ttotal: 7m 48s\tremaining: 8m 28s\n",
      "48:\tlearn: 0.6120618\ttest: 0.6117512\tbest: 0.6117512 (48)\ttotal: 7m 58s\tremaining: 8m 18s\n",
      "49:\tlearn: 0.6119226\ttest: 0.6116030\tbest: 0.6116030 (49)\ttotal: 8m 8s\tremaining: 8m 8s\n",
      "50:\tlearn: 0.6118006\ttest: 0.6114989\tbest: 0.6114989 (50)\ttotal: 8m 17s\tremaining: 7m 58s\n",
      "51:\tlearn: 0.6116835\ttest: 0.6113830\tbest: 0.6113830 (51)\ttotal: 8m 26s\tremaining: 7m 47s\n",
      "52:\tlearn: 0.6115544\ttest: 0.6112636\tbest: 0.6112636 (52)\ttotal: 8m 35s\tremaining: 7m 36s\n",
      "53:\tlearn: 0.6114265\ttest: 0.6111404\tbest: 0.6111404 (53)\ttotal: 8m 43s\tremaining: 7m 26s\n",
      "54:\tlearn: 0.6113012\ttest: 0.6110205\tbest: 0.6110205 (54)\ttotal: 8m 52s\tremaining: 7m 15s\n",
      "55:\tlearn: 0.6112065\ttest: 0.6109250\tbest: 0.6109250 (55)\ttotal: 9m\tremaining: 7m 4s\n",
      "56:\tlearn: 0.6111156\ttest: 0.6108328\tbest: 0.6108328 (56)\ttotal: 9m 9s\tremaining: 6m 54s\n",
      "57:\tlearn: 0.6110521\ttest: 0.6107601\tbest: 0.6107601 (57)\ttotal: 9m 18s\tremaining: 6m 44s\n",
      "58:\tlearn: 0.6109859\ttest: 0.6106919\tbest: 0.6106919 (58)\ttotal: 9m 27s\tremaining: 6m 34s\n",
      "59:\tlearn: 0.6108766\ttest: 0.6105805\tbest: 0.6105805 (59)\ttotal: 9m 36s\tremaining: 6m 24s\n",
      "60:\tlearn: 0.6107628\ttest: 0.6104765\tbest: 0.6104765 (60)\ttotal: 9m 44s\tremaining: 6m 14s\n",
      "61:\tlearn: 0.6106693\ttest: 0.6103896\tbest: 0.6103896 (61)\ttotal: 9m 53s\tremaining: 6m 3s\n",
      "62:\tlearn: 0.6105671\ttest: 0.6103023\tbest: 0.6103023 (62)\ttotal: 10m 2s\tremaining: 5m 53s\n",
      "63:\tlearn: 0.6104790\ttest: 0.6102005\tbest: 0.6102005 (63)\ttotal: 10m 11s\tremaining: 5m 43s\n",
      "64:\tlearn: 0.6104228\ttest: 0.6101550\tbest: 0.6101550 (64)\ttotal: 10m 20s\tremaining: 5m 33s\n",
      "65:\tlearn: 0.6103280\ttest: 0.6100315\tbest: 0.6100315 (65)\ttotal: 10m 28s\tremaining: 5m 23s\n",
      "66:\tlearn: 0.6102566\ttest: 0.6099706\tbest: 0.6099706 (66)\ttotal: 10m 37s\tremaining: 5m 14s\n",
      "67:\tlearn: 0.6101574\ttest: 0.6098614\tbest: 0.6098614 (67)\ttotal: 10m 46s\tremaining: 5m 4s\n",
      "68:\tlearn: 0.6101125\ttest: 0.6098310\tbest: 0.6098310 (68)\ttotal: 10m 55s\tremaining: 4m 54s\n",
      "69:\tlearn: 0.6099752\ttest: 0.6097115\tbest: 0.6097115 (69)\ttotal: 11m 4s\tremaining: 4m 44s\n",
      "70:\tlearn: 0.6098566\ttest: 0.6096095\tbest: 0.6096095 (70)\ttotal: 11m 12s\tremaining: 4m 34s\n",
      "71:\tlearn: 0.6097748\ttest: 0.6095382\tbest: 0.6095382 (71)\ttotal: 11m 21s\tremaining: 4m 24s\n",
      "72:\tlearn: 0.6096696\ttest: 0.6094216\tbest: 0.6094216 (72)\ttotal: 11m 29s\tremaining: 4m 15s\n",
      "73:\tlearn: 0.6095894\ttest: 0.6093563\tbest: 0.6093563 (73)\ttotal: 11m 38s\tremaining: 4m 5s\n",
      "74:\tlearn: 0.6095114\ttest: 0.6092762\tbest: 0.6092762 (74)\ttotal: 11m 47s\tremaining: 3m 55s\n",
      "75:\tlearn: 0.6094048\ttest: 0.6091737\tbest: 0.6091737 (75)\ttotal: 11m 56s\tremaining: 3m 46s\n",
      "76:\tlearn: 0.6092735\ttest: 0.6090479\tbest: 0.6090479 (76)\ttotal: 12m 5s\tremaining: 3m 36s\n",
      "77:\tlearn: 0.6091982\ttest: 0.6089699\tbest: 0.6089699 (77)\ttotal: 12m 14s\tremaining: 3m 27s\n",
      "78:\tlearn: 0.6090660\ttest: 0.6088366\tbest: 0.6088366 (78)\ttotal: 12m 23s\tremaining: 3m 17s\n",
      "79:\tlearn: 0.6089413\ttest: 0.6087154\tbest: 0.6087154 (79)\ttotal: 12m 31s\tremaining: 3m 7s\n",
      "80:\tlearn: 0.6088611\ttest: 0.6086329\tbest: 0.6086329 (80)\ttotal: 12m 40s\tremaining: 2m 58s\n",
      "81:\tlearn: 0.6088002\ttest: 0.6085739\tbest: 0.6085739 (81)\ttotal: 12m 49s\tremaining: 2m 48s\n",
      "82:\tlearn: 0.6087397\ttest: 0.6085315\tbest: 0.6085315 (82)\ttotal: 12m 58s\tremaining: 2m 39s\n",
      "83:\tlearn: 0.6086790\ttest: 0.6084761\tbest: 0.6084761 (83)\ttotal: 13m 7s\tremaining: 2m 29s\n",
      "84:\tlearn: 0.6086182\ttest: 0.6084103\tbest: 0.6084103 (84)\ttotal: 13m 15s\tremaining: 2m 20s\n",
      "85:\tlearn: 0.6085112\ttest: 0.6083172\tbest: 0.6083172 (85)\ttotal: 13m 24s\tremaining: 2m 10s\n",
      "86:\tlearn: 0.6084672\ttest: 0.6082801\tbest: 0.6082801 (86)\ttotal: 13m 33s\tremaining: 2m 1s\n",
      "87:\tlearn: 0.6083500\ttest: 0.6081723\tbest: 0.6081723 (87)\ttotal: 13m 42s\tremaining: 1m 52s\n",
      "88:\tlearn: 0.6081532\ttest: 0.6079737\tbest: 0.6079737 (88)\ttotal: 13m 50s\tremaining: 1m 42s\n",
      "89:\tlearn: 0.6080499\ttest: 0.6078734\tbest: 0.6078734 (89)\ttotal: 13m 59s\tremaining: 1m 33s\n",
      "90:\tlearn: 0.6079925\ttest: 0.6078206\tbest: 0.6078206 (90)\ttotal: 14m 7s\tremaining: 1m 23s\n"
     ]
    },
    {
     "name": "stdout",
     "output_type": "stream",
     "text": [
      "91:\tlearn: 0.6079059\ttest: 0.6077291\tbest: 0.6077291 (91)\ttotal: 14m 16s\tremaining: 1m 14s\n",
      "92:\tlearn: 0.6078334\ttest: 0.6076693\tbest: 0.6076693 (92)\ttotal: 14m 25s\tremaining: 1m 5s\n",
      "93:\tlearn: 0.6077785\ttest: 0.6076222\tbest: 0.6076222 (93)\ttotal: 14m 33s\tremaining: 55.8s\n",
      "94:\tlearn: 0.6077253\ttest: 0.6075843\tbest: 0.6075843 (94)\ttotal: 14m 42s\tremaining: 46.5s\n",
      "95:\tlearn: 0.6076806\ttest: 0.6075396\tbest: 0.6075396 (95)\ttotal: 14m 51s\tremaining: 37.1s\n",
      "96:\tlearn: 0.6076225\ttest: 0.6074913\tbest: 0.6074913 (96)\ttotal: 14m 59s\tremaining: 27.8s\n",
      "97:\tlearn: 0.6075828\ttest: 0.6074595\tbest: 0.6074595 (97)\ttotal: 15m 8s\tremaining: 18.5s\n",
      "98:\tlearn: 0.6075180\ttest: 0.6074034\tbest: 0.6074034 (98)\ttotal: 15m 17s\tremaining: 9.27s\n",
      "99:\tlearn: 0.6073868\ttest: 0.6072815\tbest: 0.6072815 (99)\ttotal: 15m 26s\tremaining: 0us\n",
      "\n",
      "bestTest = 0.6072814833\n",
      "bestIteration = 99\n",
      "\n",
      "Wall time: 15min 59s\n"
     ]
    },
    {
     "data": {
      "text/plain": [
       "<catboost.core.CatBoostClassifier at 0x16059ce9048>"
      ]
     },
     "execution_count": 61,
     "metadata": {},
     "output_type": "execute_result"
    }
   ],
   "source": [
    "%%time\n",
    "#model.fit(train_pool, eval_set=val_pool, verbose=True)\n",
    "model.fit(train_pool, eval_set=val_pool, verbose=True)"
   ]
  },
  {
   "cell_type": "code",
   "execution_count": 62,
   "metadata": {},
   "outputs": [],
   "source": [
    "model_path = '../models/model.cb'\n",
    "model.save_model(model_path)"
   ]
  },
  {
   "cell_type": "code",
   "execution_count": 63,
   "metadata": {},
   "outputs": [
    {
     "name": "stdout",
     "output_type": "stream",
     "text": [
      "SmartScreen                                       \t\t33.12626765699954\n",
      "AVProductStatesIdentifier                         \t\t9.683154514497478\n",
      "AVProductsInstalled                               \t\t8.033708984237073\n",
      "EngineVersion                                     \t\t5.6583380023606855\n",
      "AppVersion                                        \t\t4.622893722938757\n",
      "Census_ProcessorModelIdentifier                   \t\t3.7843538593606847\n",
      "CountryIdentifier                                 \t\t3.3487903638289795\n",
      "AvSigVersion                                      \t\t3.013425562106083\n",
      "Wdft_IsGamer                                      \t\t2.9370826006686612\n",
      "Census_OSInstallTypeName                          \t\t2.9285523791723618\n",
      "Wdft_RegionIdentifier                             \t\t1.6778611237575822\n",
      "Census_ActivationChannel                          \t\t1.6208203649414876\n",
      "Census_OSBuildRevision                            \t\t1.2779421228443004\n",
      "Census_OEMNameIdentifier                          \t\t1.2008582261496472\n",
      "Census_OEMModelIdentifier                         \t\t1.1748675015682768\n",
      "Census_PrimaryDiskTotalCapacity                   \t\t1.1420550552579383\n",
      "OsBuild                                           \t\t1.032566271208525\n",
      "DefaultBrowsersIdentifier                         \t\t0.9031918029744861\n",
      "CityIdentifier                                    \t\t0.7557648119364543\n",
      "RtpStateBitfield                                  \t\t0.7495784726997435\n",
      "OsBuildLab                                        \t\t0.6932582699761091\n",
      "Census_OSUILocaleIdentifier                       \t\t0.690643369273425\n",
      "GeoNameIdentifier                                 \t\t0.661299867491895\n",
      "Census_OSWUAutoUpdateOptionsName                  \t\t0.6097691646464868\n",
      "Census_TotalPhysicalRAM                           \t\t0.6048824684098099\n",
      "SkuEdition                                        \t\t0.594356399387201\n",
      "Census_InternalPrimaryDiagonalDisplaySizeInInches \t\t0.5552051760169293\n",
      "LocaleEnglishNameIdentifier                       \t\t0.5205601369732131\n",
      "Census_SystemVolumeTotalCapacity                  \t\t0.48206197447662424\n",
      "Census_InternalBatteryNumberOfCharges             \t\t0.4785074175264215\n",
      "IeVerIdentifier                                   \t\t0.47800432630113676\n",
      "Census_GenuineStateName                           \t\t0.4462569998256901\n",
      "Census_OSBranch                                   \t\t0.3929802863184596\n",
      "Census_OSBuildNumber                              \t\t0.3876832404112925\n",
      "Census_OSVersion                                  \t\t0.30113145129038005\n",
      "Census_FirmwareVersionIdentifier                  \t\t0.2763985987743505\n",
      "Census_InternalPrimaryDisplayResolutionHorizontal \t\t0.24976551604945896\n",
      "Census_HasOpticalDiskDrive                        \t\t0.2311783327549624\n",
      "Processor                                         \t\t0.22477480027016802\n",
      "Census_PrimaryDiskTypeName                        \t\t0.19165475753152308\n",
      "Census_OSEdition                                  \t\t0.1779653330629092\n",
      "Census_MDC2FormFactor                             \t\t0.16879285740748515\n",
      "Census_IsAlwaysOnAlwaysConnectedCapable           \t\t0.16466573422356615\n",
      "Census_IsSecureBootEnabled                        \t\t0.1567699591510986\n",
      "IsProtected                                       \t\t0.14492886746943753\n",
      "Census_FirmwareManufacturerIdentifier             \t\t0.12479540597231119\n",
      "Platform                                          \t\t0.11661943219086066\n",
      "Census_InternalPrimaryDisplayResolutionVertical   \t\t0.1080282547453106\n",
      "Census_OSSkuName                                  \t\t0.10331873032453877\n",
      "Census_InternalBatteryType                        \t\t0.09922732537358049\n",
      "OrganizationIdentifier                            \t\t0.09726065984659946\n",
      "Firewall                                          \t\t0.0860422879071098\n",
      "Census_FlightRing                                 \t\t0.08201925768115544\n",
      "OsSuite                                           \t\t0.07951827001855408\n",
      "AVProductsEnabled                                 \t\t0.07611161170858954\n",
      "OsVer                                             \t\t0.0738183819518382\n",
      "Census_ChassisTypeName                            \t\t0.06553640596607734\n",
      "Census_ProcessorClass                             \t\t0.06446908842777757\n",
      "Census_OSInstallLanguageIdentifier                \t\t0.05780098947098909\n",
      "Census_IsPenCapable                               \t\t0.04974910202935887\n",
      "OsPlatformSubRelease                              \t\t0.047973733878465846\n",
      "Census_ProcessorCoreCount                         \t\t0.0382809653976343\n",
      "Census_PowerPlatformRoleName                      \t\t0.03782363129345942\n",
      "Census_IsTouchEnabled                             \t\t0.025704515376830713\n",
      "Census_ProcessorManufacturerIdentifier            \t\t0.010333245910274076\n",
      "Census_OSArchitecture                             \t\t0.0\n"
     ]
    }
   ],
   "source": [
    "feature_importance = model.get_feature_importance()\n",
    "features = model.feature_names_\n",
    "\n",
    "for feature_id in feature_importance.argsort()[::-1]:\n",
    "    name = features[feature_id]\n",
    "    importance = feature_importance[feature_id]\n",
    "    print(f'{name:50}\\t\\t{importance}')"
   ]
  },
  {
   "cell_type": "code",
   "execution_count": 67,
   "metadata": {},
   "outputs": [],
   "source": [
    "def plot_roc_curve(true,\n",
    "                   pred,\n",
    "                   name,\n",
    "                   weights=None,\n",
    "                   label='',\n",
    "                   color='darkorange',\n",
    "                   ax=None,\n",
    "):\n",
    "    if ax is None:\n",
    "        ax = plt.gca()\n",
    "    fpr, tpr, thr = roc_curve(true, pred, sample_weight=weights)\n",
    "    lw = 2\n",
    "    ax.plot(fpr,\n",
    "            tpr,\n",
    "            color=color,\n",
    "            lw=lw,\n",
    "            label=('ROC {} curve (area = {:0.3f})'\n",
    "                   .format(label, roc_auc_score(true,\n",
    "                                                pred,\n",
    "                                                sample_weight=weights))))\n",
    "    ax.plot([0, 1], [0, 1], color='navy', lw=lw, linestyle='--')\n",
    "    ax.set_xlim([0.0, 1.0])\n",
    "    ax.set_ylim([0.0, 1.05])\n",
    "    ax.set_xlabel('False Positive Rate')\n",
    "    ax.set_ylabel('True Positive Rate')\n",
    "    ax.set_title(name)\n",
    "    ax.legend(loc=\"lower right\")"
   ]
  },
  {
   "cell_type": "code",
   "execution_count": 68,
   "metadata": {},
   "outputs": [
    {
     "data": {
      "image/png": "[encoded data removed]",
      "text/plain": [
       "<Figure size 720x720 with 1 Axes>"
      ]
     },
     "metadata": {
      "needs_background": "light"
     },
     "output_type": "display_data"
    }
   ],
   "source": [
    "plt.figure(figsize=(10,10))\n",
    "plot_roc_curve(true=val_pool.get_label(),\n",
    "               pred=model.predict_proba(val_pool)[:,1],\n",
    "               name='ROC-кривая на валидационном датасете')"
   ]
  }
 ],
 "metadata": {
  "kernelspec": {
   "display_name": "Python 3",
   "language": "python",
   "name": "python3"
  },
  "language_info": {
   "codemirror_mode": {
    "name": "ipython",
    "version": 3
   },
   "file_extension": ".py",
   "mimetype": "text/x-python",
   "name": "python",
   "nbconvert_exporter": "python",
   "pygments_lexer": "ipython3",
   "version": "3.7.4"
  }
 },
 "nbformat": 4,
 "nbformat_minor": 2
}
