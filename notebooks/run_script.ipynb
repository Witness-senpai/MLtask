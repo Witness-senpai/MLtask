{
 "cells": [
  {
   "cell_type": "markdown",
   "metadata": {},
   "source": [
    "# Пропуск отложенных данных через обученную модель"
   ]
  },
  {
   "cell_type": "markdown",
   "metadata": {},
   "source": [
    "### Импорты"
   ]
  },
  {
   "cell_type": "code",
   "execution_count": 1,
   "metadata": {},
   "outputs": [],
   "source": [
    "import os\n",
    "import json\n",
    "import platform\n",
    "\n",
    "import pandas as pd"
   ]
  },
  {
   "cell_type": "markdown",
   "metadata": {},
   "source": [
    "### Подготовка json данных"
   ]
  },
  {
   "cell_type": "code",
   "execution_count": 2,
   "metadata": {},
   "outputs": [],
   "source": [
    "data_path = 'data/hold_data.csv'\n",
    "json_input_path = 'data/dict_input.json'\n",
    "strings_input_path = 'data/strings_input.txt'\n",
    "script_path = 'detector.py'"
   ]
  },
  {
   "cell_type": "code",
   "execution_count": 3,
   "metadata": {},
   "outputs": [
    {
     "name": "stdout",
     "output_type": "stream",
     "text": [
      "(178430, 68)\n"
     ]
    }
   ],
   "source": [
    "data = pd.read_csv(data_path)\n",
    "\n",
    "print(data.shape)\n",
    "\n",
    "# Данные в большой json-словарь\n",
    "data.to_json(json_input_path)"
   ]
  },
  {
   "cell_type": "code",
   "execution_count": 4,
   "metadata": {},
   "outputs": [
    {
     "name": "stdout",
     "output_type": "stream",
     "text": [
      "Rows of data: 178430\n",
      "\n",
      "{\"MachineIdentifier\": \"58b50a0c545980583f15d13fa23bd371\", \"EngineVersion\": \"1.1.15100.1\", \"AppVersion\": \"4.18.1807.18075\", \"AvSigVersion\": \"1.273.1504.0\", \"RtpStateBitfield\": 7.0, \"DefaultBrowsersIdentifier\": NaN, \"AVProductStatesIdentifier\": 53447.0, \"AVProductsInstalled\": 1.0, \"AVProductsEnabled\": 1.0, \"CountryIdentifier\": 21, \"CityIdentifier\": 29332.0, \"OrganizationIdentifier\": NaN, \"GeoNameIdentifier\": 39.0, \"LocaleEnglishNameIdentifier\": 75, \"Platform\": \"windows10\", \"Processor\": \"x64\", \"OsVer\": \"10.0.0.0\", \"OsBuild\": 15063, \"OsSuite\": 256, \"OsPlatformSubRelease\": \"rs2\", \"OsBuildLab\": \"15063.0.amd64fre.rs2_release.170317-1834\", \"SkuEdition\": \"Pro\", \"IsProtected\": 1.0, \"IeVerIdentifier\": 108.0, \"SmartScreen\": NaN, \"Firewall\": 1.0, \"Census_MDC2FormFactor\": \"Notebook\", \"Census_OEMNameIdentifier\": 2206.0, \"Census_OEMModelIdentifier\": 241660.0, \"Census_ProcessorCoreCount\": 2.0, \"Census_ProcessorManufacturerIdentifier\": 5.0, \"Census_ProcessorModelIdentifier\": 3379.0, \"Census_ProcessorClass\": NaN, \"Census_PrimaryDiskTotalCapacity\": 610480.0, \"Census_PrimaryDiskTypeName\": \"HDD\", \"Census_SystemVolumeTotalCapacity\": 100000.0, \"Census_HasOpticalDiskDrive\": 0, \"Census_TotalPhysicalRAM\": 4096.0, \"Census_ChassisTypeName\": \"Notebook\", \"Census_InternalPrimaryDiagonalDisplaySizeInInches\": 15.5, \"Census_InternalPrimaryDisplayResolutionHorizontal\": 1024.0, \"Census_InternalPrimaryDisplayResolutionVertical\": 768.0, \"Census_PowerPlatformRoleName\": \"Mobile\", \"Census_InternalBatteryType\": NaN, \"Census_InternalBatteryNumberOfCharges\": 0.0, \"Census_OSVersion\": \"10.0.15063.1235\", \"Census_OSArchitecture\": \"amd64\", \"Census_OSBranch\": \"rs2_release\", \"Census_OSBuildNumber\": 15063, \"Census_OSBuildRevision\": 1235, \"Census_OSEdition\": \"Professional\", \"Census_OSSkuName\": \"PROFESSIONAL\", \"Census_OSInstallTypeName\": \"IBSClean\", \"Census_OSInstallLanguageIdentifier\": 8.0, \"Census_OSUILocaleIdentifier\": 31, \"Census_OSWUAutoUpdateOptionsName\": \"UNKNOWN\", \"Census_GenuineStateName\": \"IS_GENUINE\", \"Census_ActivationChannel\": \"Volume:GVLK\", \"Census_FlightRing\": \"Retail\", \"Census_FirmwareManufacturerIdentifier\": 500.0, \"Census_FirmwareVersionIdentifier\": 33144.0, \"Census_IsSecureBootEnabled\": 0, \"Census_IsTouchEnabled\": 0, \"Census_IsPenCapable\": 0, \"Census_IsAlwaysOnAlwaysConnectedCapable\": 0.0, \"Wdft_IsGamer\": 0.0, \"Wdft_RegionIdentifier\": 3.0, \"HasDetections\": 0}\n"
     ]
    }
   ],
   "source": [
    "# Конвертация всех данных в лист json-строк\n",
    "json_strings = []\n",
    "\n",
    "for row in data.iterrows():\n",
    "    json_string = json.dumps(row[1].to_dict())\n",
    "    json_strings.append(json_string)\n",
    "    \n",
    "print(f'Rows of data: {len(json_strings)}\\n')\n",
    "print(json_strings[0])"
   ]
  },
  {
   "cell_type": "code",
   "execution_count": 5,
   "metadata": {},
   "outputs": [
    {
     "name": "stdout",
     "output_type": "stream",
     "text": [
      "423718886\n"
     ]
    }
   ],
   "source": [
    "input_string = '\\n'.join(json_strings) + '\\nstop\\n'\n",
    "\n",
    "print(len(input_string))\n",
    "\n",
    "# Запись полученных данных в файл\n",
    "with open(strings_input_path, 'w') as f:\n",
    "    f.write(input_string)"
   ]
  },
  {
   "cell_type": "markdown",
   "metadata": {},
   "source": [
    "### Пропуск данных черех скрипт"
   ]
  },
  {
   "cell_type": "code",
   "execution_count": 6,
   "metadata": {},
   "outputs": [
    {
     "name": "stdout",
     "output_type": "stream",
     "text": [
      "type data/dict_input.json | python detector.py\n"
     ]
    }
   ],
   "source": [
    "# Команда в зависимости от платформы\n",
    "if platform.system() == 'Windows':\n",
    "    python_path = 'python'\n",
    "    execute_comand = f'type {json_input_path} | {python_path} {script_path}'\n",
    "else: # Linux\n",
    "    python_path = 'python3'\n",
    "    execute_comand = f'cat {json_input_path} | {python_path} {script_path}'\n",
    "print(execute_comand)"
   ]
  },
  {
   "cell_type": "code",
   "execution_count": 7,
   "metadata": {},
   "outputs": [
    {
     "name": "stdout",
     "output_type": "stream",
     "text": [
      "Wall time: 21.4 s\n"
     ]
    }
   ],
   "source": [
    "%%time\n",
    "ans = os.system(execute_comand)"
   ]
  }
 ],
 "metadata": {
  "kernelspec": {
   "display_name": "Python 3",
   "language": "python",
   "name": "python3"
  },
  "language_info": {
   "codemirror_mode": {
    "name": "ipython",
    "version": 3
   },
   "file_extension": ".py",
   "mimetype": "text/x-python",
   "name": "python",
   "nbconvert_exporter": "python",
   "pygments_lexer": "ipython3",
   "version": "3.7.4"
  }
 },
 "nbformat": 4,
 "nbformat_minor": 2
}
